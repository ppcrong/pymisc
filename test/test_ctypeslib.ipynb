{
 "cells": [
  {
   "cell_type": "markdown",
   "metadata": {},
   "source": [
    "## import ctypes and ctypeslib"
   ]
  },
  {
   "cell_type": "code",
   "execution_count": null,
   "metadata": {},
   "outputs": [],
   "source": [
    "from ctypes import CDLL"
   ]
  },
  {
   "cell_type": "code",
   "execution_count": null,
   "metadata": {},
   "outputs": [],
   "source": [
    "import sys\n",
    "sys.path.append(\"..\")\n",
    "from ctypeslib import ctypeslib"
   ]
  },
  {
   "cell_type": "markdown",
   "metadata": {},
   "source": [
    "## load dll"
   ]
  },
  {
   "cell_type": "code",
   "execution_count": null,
   "metadata": {},
   "outputs": [],
   "source": [
    "dll_c = CDLL('../asset/libctypes_dll.dll')"
   ]
  },
  {
   "cell_type": "markdown",
   "metadata": {},
   "source": [
    "## there are some APIs in the dll\n",
    "* WINDOWS_DLL_DEFINE int test_value(int *pValue);\n",
    "* WINDOWS_DLL_DEFINE void test_buf(void *buf);\n",
    "* WINDOWS_DLL_DEFINE size_t test_struct_array(struct bounding_box_s **ppBoxes, size_t boxes_len);\n",
    "* WINDOWS_DLL_DEFINE size_t test_struct_array2(struct test_result_s **ppResults, size_t results_len);\n",
    "* WINDOWS_DLL_DEFINE void fillonestruct(struct structtest *t);\n",
    "* WINDOWS_DLL_DEFINE void fillmultiplestruct(struct structtest *t, size_t n);\n",
    "* WINDOWS_DLL_DEFINE int my_func(struct _unit *param);"
   ]
  },
  {
   "cell_type": "code",
   "execution_count": null,
   "metadata": {},
   "outputs": [],
   "source": [
    "ctypeslib.check_func_exist(dll_c, 'test_value') is None"
   ]
  },
  {
   "cell_type": "code",
   "execution_count": null,
   "metadata": {},
   "outputs": [],
   "source": [
    "ctypeslib.check_func_exist(dll_c, 'test_buf') is None"
   ]
  },
  {
   "cell_type": "code",
   "execution_count": null,
   "metadata": {},
   "outputs": [],
   "source": [
    "ctypeslib.check_func_exist(dll_c, 'test_struct_array') is None"
   ]
  },
  {
   "cell_type": "code",
   "execution_count": null,
   "metadata": {},
   "outputs": [],
   "source": [
    "ctypeslib.check_func_exist(dll_c, 'check_func_exist') is None"
   ]
  }
 ],
 "metadata": {
  "kernelspec": {
   "display_name": "Python 3",
   "language": "python",
   "name": "python3"
  },
  "language_info": {
   "codemirror_mode": {
    "name": "ipython",
    "version": 3
   },
   "file_extension": ".py",
   "mimetype": "text/x-python",
   "name": "python",
   "nbconvert_exporter": "python",
   "pygments_lexer": "ipython3",
   "version": "3.7.4"
  }
 },
 "nbformat": 4,
 "nbformat_minor": 4
}
